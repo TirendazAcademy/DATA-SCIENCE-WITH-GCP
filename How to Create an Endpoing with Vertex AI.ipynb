{
 "cells": [
  {
   "cell_type": "markdown",
   "id": "24b53406-fa67-4b79-9a4c-3ebb815900a2",
   "metadata": {},
   "source": [
    "# How to Create an Endpoint with Vertex AI"
   ]
  },
  {
   "cell_type": "markdown",
   "id": "0e162cd0-8090-4b02-a748-ac3d39eeb7a2",
   "metadata": {},
   "source": [
    "This notebook shows how to build the model with TensorFlow and create an endpoint for a model vertex AI."
   ]
  },
  {
   "cell_type": "markdown",
   "id": "cadf677d-be86-4cdd-ad91-6642320ca692",
   "metadata": {},
   "source": [
    "Let's import the libraries that we will use in this notebook first."
   ]
  },
  {
   "cell_type": "code",
   "execution_count": 1,
   "id": "a659c759-c0b3-4744-ba3c-654a43692309",
   "metadata": {},
   "outputs": [
    {
     "name": "stdout",
     "output_type": "stream",
     "text": [
      "Tensorflow version 2.9.2\n"
     ]
    }
   ],
   "source": [
    "import os, json, math, shutil\n",
    "import numpy as np\n",
    "import tensorflow as tf\n",
    "print(\"Tensorflow version \" + tf.__version__)"
   ]
  },
  {
   "cell_type": "markdown",
   "id": "3c66a6d6-b399-4361-989e-136f36d74d60",
   "metadata": {},
   "source": [
    "Let's create the enviroment variables. "
   ]
  },
  {
   "cell_type": "code",
   "execution_count": 2,
   "id": "bda25a78-37ce-47f1-afe6-0e4bd8f39b64",
   "metadata": {},
   "outputs": [
    {
     "name": "stdout",
     "output_type": "stream",
     "text": [
      "project: tirendaz bucket: tirendaz-ds\n"
     ]
    }
   ],
   "source": [
    "PROJECT=!(gcloud config get-value project)\n",
    "PROJECT=PROJECT[0]\n",
    "\n",
    "REGION = 'us-central1'\n",
    "BUCKET='{}-ds'.format(PROJECT)\n",
    "os.environ['ENDPOINT_NAME'] = 'flights'\n",
    "\n",
    "os.environ['BUCKET'] = BUCKET\n",
    "os.environ['REGION'] = REGION\n",
    "os.environ['TF_VERSION']='2-' + tf.__version__[2:3]  # needed to choose container\n",
    "print(\"project:\", PROJECT, \"bucket:\", BUCKET)"
   ]
  },
  {
   "cell_type": "markdown",
   "id": "c7d8af71-e892-4557-8f4d-4a06eb8acf2a",
   "metadata": {},
   "source": [
    "## Creating data sets to build the model"
   ]
  },
  {
   "cell_type": "markdown",
   "id": "868148b6-e99f-47ff-b874-cc1b371bef85",
   "metadata": {},
   "source": [
    "In this section, I'm going to create trainin and validation data. Let's get started with creating the training data first."
   ]
  },
  {
   "cell_type": "code",
   "execution_count": 3,
   "id": "e84b11a6-d69e-4fc2-b0ed-1e0c9651d6d3",
   "metadata": {},
   "outputs": [
    {
     "name": "stderr",
     "output_type": "stream",
     "text": [
      "Query complete after 0.01s: 100%|██████████| 4/4 [00:00<00:00, 2214.81query/s]                        \n"
     ]
    },
    {
     "data": {
      "text/html": [
       "<div>\n",
       "<style scoped>\n",
       "    .dataframe tbody tr th:only-of-type {\n",
       "        vertical-align: middle;\n",
       "    }\n",
       "\n",
       "    .dataframe tbody tr th {\n",
       "        vertical-align: top;\n",
       "    }\n",
       "\n",
       "    .dataframe thead th {\n",
       "        text-align: right;\n",
       "    }\n",
       "</style>\n",
       "<table border=\"1\" class=\"dataframe\">\n",
       "  <thead>\n",
       "    <tr style=\"text-align: right;\">\n",
       "      <th></th>\n",
       "    </tr>\n",
       "  </thead>\n",
       "  <tbody>\n",
       "  </tbody>\n",
       "</table>\n",
       "</div>"
      ],
      "text/plain": [
       "Empty DataFrame\n",
       "Columns: []\n",
       "Index: []"
      ]
     },
     "execution_count": 3,
     "metadata": {},
     "output_type": "execute_result"
    }
   ],
   "source": [
    "%%bigquery \n",
    "CREATE OR REPLACE TABLE tirendaz.dsongcp.flights_train_data AS\n",
    "SELECT\n",
    "  IF(arr_delay < 15, 1.0, 0.0) AS ontime,\n",
    "  dep_delay,\n",
    "  taxi_out,\n",
    "  distance,\n",
    "  origin,\n",
    "  dest,\n",
    "  EXTRACT(hour FROM dep_time) AS dep_hour,\n",
    "  IF (EXTRACT(dayofweek FROM dep_time) BETWEEN 2 AND 6, 1, 0) AS is_weekday,\n",
    "  UNIQUE_CARRIER AS carrier,\n",
    "  dep_airport_lat,\n",
    "  dep_airport_lon,\n",
    "  arr_airport_lat,\n",
    "  arr_airport_lon\n",
    "FROM tirendaz.dsongcp.flights_tzcorr f\n",
    "JOIN tirendaz.dsongcp.trainday t\n",
    "ON f.FL_DATE = t.FL_DATE\n",
    "WHERE\n",
    "  f.CANCELLED = False AND \n",
    "  f.DIVERTED = False AND\n",
    "  is_train_day = 'True'"
   ]
  },
  {
   "cell_type": "markdown",
   "id": "d7583ef8-72ff-420c-b291-3eba057cff31",
   "metadata": {},
   "source": [
    "Let's take a look at the training data."
   ]
  },
  {
   "cell_type": "code",
   "execution_count": 4,
   "id": "d6b031c0-d7f6-4260-a982-74c58bcfadcc",
   "metadata": {},
   "outputs": [
    {
     "name": "stderr",
     "output_type": "stream",
     "text": [
      "Query complete after 0.00s: 100%|██████████| 2/2 [00:00<00:00, 1001.74query/s]                        \n",
      "Downloading: 100%|██████████| 5/5 [00:02<00:00,  2.38rows/s]\n"
     ]
    },
    {
     "data": {
      "text/html": [
       "<div>\n",
       "<style scoped>\n",
       "    .dataframe tbody tr th:only-of-type {\n",
       "        vertical-align: middle;\n",
       "    }\n",
       "\n",
       "    .dataframe tbody tr th {\n",
       "        vertical-align: top;\n",
       "    }\n",
       "\n",
       "    .dataframe thead th {\n",
       "        text-align: right;\n",
       "    }\n",
       "</style>\n",
       "<table border=\"1\" class=\"dataframe\">\n",
       "  <thead>\n",
       "    <tr style=\"text-align: right;\">\n",
       "      <th></th>\n",
       "      <th>ontime</th>\n",
       "      <th>dep_delay</th>\n",
       "      <th>taxi_out</th>\n",
       "      <th>distance</th>\n",
       "      <th>origin</th>\n",
       "      <th>dest</th>\n",
       "      <th>dep_hour</th>\n",
       "      <th>is_weekday</th>\n",
       "      <th>carrier</th>\n",
       "      <th>dep_airport_lat</th>\n",
       "      <th>dep_airport_lon</th>\n",
       "      <th>arr_airport_lat</th>\n",
       "      <th>arr_airport_lon</th>\n",
       "    </tr>\n",
       "  </thead>\n",
       "  <tbody>\n",
       "    <tr>\n",
       "      <th>0</th>\n",
       "      <td>1.0</td>\n",
       "      <td>-22.0</td>\n",
       "      <td>5.0</td>\n",
       "      <td>548.0</td>\n",
       "      <td>OTZ</td>\n",
       "      <td>ANC</td>\n",
       "      <td>16</td>\n",
       "      <td>1</td>\n",
       "      <td>AS</td>\n",
       "      <td>66.884722</td>\n",
       "      <td>-162.598611</td>\n",
       "      <td>61.174167</td>\n",
       "      <td>-149.998056</td>\n",
       "    </tr>\n",
       "    <tr>\n",
       "      <th>1</th>\n",
       "      <td>1.0</td>\n",
       "      <td>-7.0</td>\n",
       "      <td>11.0</td>\n",
       "      <td>1046.0</td>\n",
       "      <td>SJU</td>\n",
       "      <td>FLL</td>\n",
       "      <td>0</td>\n",
       "      <td>1</td>\n",
       "      <td>B6</td>\n",
       "      <td>18.439444</td>\n",
       "      <td>-66.002222</td>\n",
       "      <td>26.072500</td>\n",
       "      <td>-80.152778</td>\n",
       "    </tr>\n",
       "    <tr>\n",
       "      <th>2</th>\n",
       "      <td>1.0</td>\n",
       "      <td>-6.0</td>\n",
       "      <td>11.0</td>\n",
       "      <td>399.0</td>\n",
       "      <td>ANC</td>\n",
       "      <td>BET</td>\n",
       "      <td>3</td>\n",
       "      <td>1</td>\n",
       "      <td>AS</td>\n",
       "      <td>61.174167</td>\n",
       "      <td>-149.998056</td>\n",
       "      <td>60.778611</td>\n",
       "      <td>-161.837222</td>\n",
       "    </tr>\n",
       "    <tr>\n",
       "      <th>3</th>\n",
       "      <td>1.0</td>\n",
       "      <td>-1.0</td>\n",
       "      <td>19.0</td>\n",
       "      <td>571.0</td>\n",
       "      <td>ANC</td>\n",
       "      <td>JNU</td>\n",
       "      <td>15</td>\n",
       "      <td>1</td>\n",
       "      <td>AS</td>\n",
       "      <td>61.174167</td>\n",
       "      <td>-149.998056</td>\n",
       "      <td>58.354722</td>\n",
       "      <td>-134.574722</td>\n",
       "    </tr>\n",
       "    <tr>\n",
       "      <th>4</th>\n",
       "      <td>1.0</td>\n",
       "      <td>-5.0</td>\n",
       "      <td>7.0</td>\n",
       "      <td>571.0</td>\n",
       "      <td>ANC</td>\n",
       "      <td>JNU</td>\n",
       "      <td>4</td>\n",
       "      <td>0</td>\n",
       "      <td>AS</td>\n",
       "      <td>61.174167</td>\n",
       "      <td>-149.998056</td>\n",
       "      <td>58.354722</td>\n",
       "      <td>-134.574722</td>\n",
       "    </tr>\n",
       "  </tbody>\n",
       "</table>\n",
       "</div>"
      ],
      "text/plain": [
       "   ontime  dep_delay  taxi_out  distance origin dest  dep_hour  is_weekday  \\\n",
       "0     1.0      -22.0       5.0     548.0    OTZ  ANC        16           1   \n",
       "1     1.0       -7.0      11.0    1046.0    SJU  FLL         0           1   \n",
       "2     1.0       -6.0      11.0     399.0    ANC  BET         3           1   \n",
       "3     1.0       -1.0      19.0     571.0    ANC  JNU        15           1   \n",
       "4     1.0       -5.0       7.0     571.0    ANC  JNU         4           0   \n",
       "\n",
       "  carrier  dep_airport_lat  dep_airport_lon  arr_airport_lat  arr_airport_lon  \n",
       "0      AS        66.884722      -162.598611        61.174167      -149.998056  \n",
       "1      B6        18.439444       -66.002222        26.072500       -80.152778  \n",
       "2      AS        61.174167      -149.998056        60.778611      -161.837222  \n",
       "3      AS        61.174167      -149.998056        58.354722      -134.574722  \n",
       "4      AS        61.174167      -149.998056        58.354722      -134.574722  "
      ]
     },
     "execution_count": 4,
     "metadata": {},
     "output_type": "execute_result"
    }
   ],
   "source": [
    "%%bigquery\n",
    "SELECT * FROM `tirendaz.dsongcp.flights_train_data` LIMIT 5"
   ]
  },
  {
   "cell_type": "markdown",
   "id": "90d3fdfb-4ad5-4a90-a665-8496fae8a4ee",
   "metadata": {},
   "source": [
    "After that let me create validation data. "
   ]
  },
  {
   "cell_type": "code",
   "execution_count": 5,
   "id": "63fa19be-354d-447d-9f61-5f4249b06e29",
   "metadata": {},
   "outputs": [
    {
     "name": "stderr",
     "output_type": "stream",
     "text": [
      "Query complete after 0.00s: 100%|██████████| 4/4 [00:00<00:00, 1666.06query/s]                        \n"
     ]
    },
    {
     "data": {
      "text/html": [
       "<div>\n",
       "<style scoped>\n",
       "    .dataframe tbody tr th:only-of-type {\n",
       "        vertical-align: middle;\n",
       "    }\n",
       "\n",
       "    .dataframe tbody tr th {\n",
       "        vertical-align: top;\n",
       "    }\n",
       "\n",
       "    .dataframe thead th {\n",
       "        text-align: right;\n",
       "    }\n",
       "</style>\n",
       "<table border=\"1\" class=\"dataframe\">\n",
       "  <thead>\n",
       "    <tr style=\"text-align: right;\">\n",
       "      <th></th>\n",
       "    </tr>\n",
       "  </thead>\n",
       "  <tbody>\n",
       "  </tbody>\n",
       "</table>\n",
       "</div>"
      ],
      "text/plain": [
       "Empty DataFrame\n",
       "Columns: []\n",
       "Index: []"
      ]
     },
     "execution_count": 5,
     "metadata": {},
     "output_type": "execute_result"
    }
   ],
   "source": [
    "%%bigquery\n",
    "CREATE OR REPLACE TABLE tirendaz.dsongcp.flights_eval_data AS\n",
    "\n",
    "SELECT\n",
    "  IF(arr_delay < 15, 1.0, 0.0) AS ontime,\n",
    "  dep_delay,\n",
    "  taxi_out,\n",
    "  distance,\n",
    "  origin,\n",
    "  dest,\n",
    "  EXTRACT(hour FROM dep_time) AS dep_hour,\n",
    "  IF (EXTRACT(dayofweek FROM dep_time) BETWEEN 2 AND 6, 1, 0) AS is_weekday,\n",
    "  UNIQUE_CARRIER AS carrier,\n",
    "  dep_airport_lat,\n",
    "  dep_airport_lon,\n",
    "  arr_airport_lat,\n",
    "  arr_airport_lon\n",
    "FROM tirendaz.dsongcp.flights_tzcorr f\n",
    "JOIN tirendaz.dsongcp.trainday t\n",
    "ON f.FL_DATE = t.FL_DATE\n",
    "WHERE\n",
    "  f.CANCELLED = False AND \n",
    "  f.DIVERTED = False AND\n",
    "  is_train_day = 'False'"
   ]
  },
  {
   "cell_type": "markdown",
   "id": "667fa851-1f89-47f3-8dcb-ea55ba64e0f5",
   "metadata": {},
   "source": [
    "Now that let's take a look at the training data."
   ]
  },
  {
   "cell_type": "code",
   "execution_count": 6,
   "id": "adcac20d-0642-4323-92c9-948cdadd5434",
   "metadata": {},
   "outputs": [
    {
     "name": "stderr",
     "output_type": "stream",
     "text": [
      "Query complete after 0.00s: 100%|██████████| 2/2 [00:00<00:00, 948.94query/s]                         \n",
      "Downloading: 100%|██████████| 5/5 [00:01<00:00,  2.61rows/s]\n"
     ]
    },
    {
     "data": {
      "text/html": [
       "<div>\n",
       "<style scoped>\n",
       "    .dataframe tbody tr th:only-of-type {\n",
       "        vertical-align: middle;\n",
       "    }\n",
       "\n",
       "    .dataframe tbody tr th {\n",
       "        vertical-align: top;\n",
       "    }\n",
       "\n",
       "    .dataframe thead th {\n",
       "        text-align: right;\n",
       "    }\n",
       "</style>\n",
       "<table border=\"1\" class=\"dataframe\">\n",
       "  <thead>\n",
       "    <tr style=\"text-align: right;\">\n",
       "      <th></th>\n",
       "      <th>ontime</th>\n",
       "      <th>dep_delay</th>\n",
       "      <th>taxi_out</th>\n",
       "      <th>distance</th>\n",
       "      <th>origin</th>\n",
       "      <th>dest</th>\n",
       "      <th>dep_hour</th>\n",
       "      <th>is_weekday</th>\n",
       "      <th>carrier</th>\n",
       "      <th>dep_airport_lat</th>\n",
       "      <th>dep_airport_lon</th>\n",
       "      <th>arr_airport_lat</th>\n",
       "      <th>arr_airport_lon</th>\n",
       "    </tr>\n",
       "  </thead>\n",
       "  <tbody>\n",
       "    <tr>\n",
       "      <th>0</th>\n",
       "      <td>1.0</td>\n",
       "      <td>-2.0</td>\n",
       "      <td>11.0</td>\n",
       "      <td>831.0</td>\n",
       "      <td>RST</td>\n",
       "      <td>ATL</td>\n",
       "      <td>19</td>\n",
       "      <td>1</td>\n",
       "      <td>EV</td>\n",
       "      <td>43.908333</td>\n",
       "      <td>-92.5</td>\n",
       "      <td>33.636667</td>\n",
       "      <td>-84.427778</td>\n",
       "    </tr>\n",
       "    <tr>\n",
       "      <th>1</th>\n",
       "      <td>1.0</td>\n",
       "      <td>-5.0</td>\n",
       "      <td>12.0</td>\n",
       "      <td>831.0</td>\n",
       "      <td>RST</td>\n",
       "      <td>ATL</td>\n",
       "      <td>19</td>\n",
       "      <td>0</td>\n",
       "      <td>EV</td>\n",
       "      <td>43.908333</td>\n",
       "      <td>-92.5</td>\n",
       "      <td>33.636667</td>\n",
       "      <td>-84.427778</td>\n",
       "    </tr>\n",
       "    <tr>\n",
       "      <th>2</th>\n",
       "      <td>1.0</td>\n",
       "      <td>-10.0</td>\n",
       "      <td>9.0</td>\n",
       "      <td>831.0</td>\n",
       "      <td>RST</td>\n",
       "      <td>ATL</td>\n",
       "      <td>19</td>\n",
       "      <td>1</td>\n",
       "      <td>EV</td>\n",
       "      <td>43.908333</td>\n",
       "      <td>-92.5</td>\n",
       "      <td>33.636667</td>\n",
       "      <td>-84.427778</td>\n",
       "    </tr>\n",
       "    <tr>\n",
       "      <th>3</th>\n",
       "      <td>1.0</td>\n",
       "      <td>-4.0</td>\n",
       "      <td>6.0</td>\n",
       "      <td>831.0</td>\n",
       "      <td>RST</td>\n",
       "      <td>ATL</td>\n",
       "      <td>19</td>\n",
       "      <td>1</td>\n",
       "      <td>EV</td>\n",
       "      <td>43.908333</td>\n",
       "      <td>-92.5</td>\n",
       "      <td>33.636667</td>\n",
       "      <td>-84.427778</td>\n",
       "    </tr>\n",
       "    <tr>\n",
       "      <th>4</th>\n",
       "      <td>1.0</td>\n",
       "      <td>2.0</td>\n",
       "      <td>9.0</td>\n",
       "      <td>831.0</td>\n",
       "      <td>RST</td>\n",
       "      <td>ATL</td>\n",
       "      <td>20</td>\n",
       "      <td>0</td>\n",
       "      <td>EV</td>\n",
       "      <td>43.908333</td>\n",
       "      <td>-92.5</td>\n",
       "      <td>33.636667</td>\n",
       "      <td>-84.427778</td>\n",
       "    </tr>\n",
       "  </tbody>\n",
       "</table>\n",
       "</div>"
      ],
      "text/plain": [
       "   ontime  dep_delay  taxi_out  distance origin dest  dep_hour  is_weekday  \\\n",
       "0     1.0       -2.0      11.0     831.0    RST  ATL        19           1   \n",
       "1     1.0       -5.0      12.0     831.0    RST  ATL        19           0   \n",
       "2     1.0      -10.0       9.0     831.0    RST  ATL        19           1   \n",
       "3     1.0       -4.0       6.0     831.0    RST  ATL        19           1   \n",
       "4     1.0        2.0       9.0     831.0    RST  ATL        20           0   \n",
       "\n",
       "  carrier  dep_airport_lat  dep_airport_lon  arr_airport_lat  arr_airport_lon  \n",
       "0      EV        43.908333            -92.5        33.636667       -84.427778  \n",
       "1      EV        43.908333            -92.5        33.636667       -84.427778  \n",
       "2      EV        43.908333            -92.5        33.636667       -84.427778  \n",
       "3      EV        43.908333            -92.5        33.636667       -84.427778  \n",
       "4      EV        43.908333            -92.5        33.636667       -84.427778  "
      ]
     },
     "execution_count": 6,
     "metadata": {},
     "output_type": "execute_result"
    }
   ],
   "source": [
    "%%bigquery\n",
    "SELECT * FROM `tirendaz.dsongcp.flights_eval_data` LIMIT 5"
   ]
  },
  {
   "cell_type": "markdown",
   "id": "655f3160-6f2d-441b-83f3-51e16731f678",
   "metadata": {},
   "source": [
    "Let's get all data that includes the training and validation data and add a column showing the train and validation data."
   ]
  },
  {
   "cell_type": "code",
   "execution_count": 7,
   "id": "a44cbbf1-a672-4d54-814d-48aa06333f51",
   "metadata": {},
   "outputs": [
    {
     "name": "stderr",
     "output_type": "stream",
     "text": [
      "Query complete after 0.00s: 100%|██████████| 4/4 [00:00<00:00, 1396.70query/s]                        \n"
     ]
    },
    {
     "data": {
      "text/html": [
       "<div>\n",
       "<style scoped>\n",
       "    .dataframe tbody tr th:only-of-type {\n",
       "        vertical-align: middle;\n",
       "    }\n",
       "\n",
       "    .dataframe tbody tr th {\n",
       "        vertical-align: top;\n",
       "    }\n",
       "\n",
       "    .dataframe thead th {\n",
       "        text-align: right;\n",
       "    }\n",
       "</style>\n",
       "<table border=\"1\" class=\"dataframe\">\n",
       "  <thead>\n",
       "    <tr style=\"text-align: right;\">\n",
       "      <th></th>\n",
       "    </tr>\n",
       "  </thead>\n",
       "  <tbody>\n",
       "  </tbody>\n",
       "</table>\n",
       "</div>"
      ],
      "text/plain": [
       "Empty DataFrame\n",
       "Columns: []\n",
       "Index: []"
      ]
     },
     "execution_count": 7,
     "metadata": {},
     "output_type": "execute_result"
    }
   ],
   "source": [
    "%%bigquery\n",
    "CREATE OR REPLACE TABLE dsongcp.flights_all_data AS\n",
    "\n",
    "SELECT\n",
    "  IF(arr_delay < 15, 1.0, 0.0) AS ontime,\n",
    "  dep_delay,\n",
    "  taxi_out,\n",
    "  distance,\n",
    "  origin,\n",
    "  dest,\n",
    "  EXTRACT(hour FROM dep_time) AS dep_hour,\n",
    "  IF (EXTRACT(dayofweek FROM dep_time) BETWEEN 2 AND 6, 1, 0) AS is_weekday,\n",
    "  UNIQUE_CARRIER AS carrier,\n",
    "  dep_airport_lat,\n",
    "  dep_airport_lon,\n",
    "  arr_airport_lat,\n",
    "  arr_airport_lon,\n",
    "  IF (is_train_day = 'True',\n",
    "      IF(ABS(MOD(FARM_FINGERPRINT(CAST(f.FL_DATE AS STRING)), 100)) < 60, 'TRAIN', 'VALIDATE'),\n",
    "      'TEST') AS data_split\n",
    "FROM dsongcp.flights_tzcorr f\n",
    "JOIN dsongcp.trainday t\n",
    "ON f.FL_DATE = t.FL_DATE\n",
    "WHERE\n",
    "  f.CANCELLED = False AND \n",
    "  f.DIVERTED = False"
   ]
  },
  {
   "cell_type": "markdown",
   "id": "becf0b41-10f7-4d86-a131-797b63078229",
   "metadata": {},
   "source": [
    "Now that let's save the bucket and delete these tables using the for loop in bash."
   ]
  },
  {
   "cell_type": "code",
   "execution_count": 8,
   "id": "953dbdb7-5e51-4f78-a859-f53ba4b0d6a8",
   "metadata": {},
   "outputs": [
    {
     "name": "stdout",
     "output_type": "stream",
     "text": [
      "Exporting dsongcp.flights_train_data to gs://tirendaz-ds/ch9/data/train.csv and deleting table\n",
      "Exporting dsongcp.flights_eval_data to gs://tirendaz-ds/ch9/data/eval.csv and deleting table\n",
      "Exporting dsongcp.flights_all_data to gs://tirendaz-ds/ch9/data/all.csv and deleting table\n"
     ]
    },
    {
     "name": "stderr",
     "output_type": "stream",
     "text": [
      "Waiting on bqjob_r5846637df461034b_00000183d2209f3e_1 ... (65s) Current status: DONE   \n",
      "Waiting on bqjob_r75ce4fba1ce077f7_00000183d221b121_1 ... (23s) Current status: DONE   \n",
      "Waiting on bqjob_r1dd78a45492e7439_00000183d2221c0f_1 ... (85s) Current status: DONE   \n"
     ]
    }
   ],
   "source": [
    "%%bash\n",
    "PROJECT=$(gcloud config get-value project)\n",
    "for dataset in \"train\" \"eval\" \"all\"; do\n",
    "  TABLE=dsongcp.flights_${dataset}_data\n",
    "  CSV=gs://${BUCKET}/ch9/data/${dataset}.csv\n",
    "  echo \"Exporting ${TABLE} to ${CSV} and deleting table\"\n",
    "  bq --project_id=${PROJECT} extract --destination_format=CSV $TABLE $CSV\n",
    "  bq --project_id=${PROJECT} rm -f $TABLE\n",
    "done"
   ]
  },
  {
   "cell_type": "markdown",
   "id": "f746c3e7-dcf1-40a1-b45d-9f80dc8ed331",
   "metadata": {},
   "source": [
    "Let's take a look at these data sets."
   ]
  },
  {
   "cell_type": "code",
   "execution_count": 9,
   "id": "1c4eebdf-48a7-4428-9325-fabfdf772193",
   "metadata": {},
   "outputs": [
    {
     "name": "stdout",
     "output_type": "stream",
     "text": [
      "445.01 MiB  2022-10-13T16:17:55Z  gs://tirendaz-ds/ch9/data/all.csv\n",
      "115.19 MiB  2022-10-13T16:16:28Z  gs://tirendaz-ds/ch9/data/eval.csv\n",
      "296.96 MiB  2022-10-13T16:16:01Z  gs://tirendaz-ds/ch9/data/train.csv\n",
      "TOTAL: 3 objects, 898801258 bytes (857.16 MiB)\n"
     ]
    }
   ],
   "source": [
    "!gsutil ls -lh gs://{BUCKET}/ch9/data"
   ]
  },
  {
   "cell_type": "markdown",
   "id": "322d122e-7dc2-4df4-8075-b916accbd439",
   "metadata": {},
   "source": [
    "## Setup in notebook"
   ]
  },
  {
   "cell_type": "markdown",
   "id": "00a6cffc-8d7c-4179-b92c-3aea46974de4",
   "metadata": {},
   "source": [
    "For development purposes, we'll train for just a few epochs. That's why the NUM_EXAMPLES is so low."
   ]
  },
  {
   "cell_type": "code",
   "execution_count": 10,
   "id": "8b15fae2-c17d-4684-b2d5-e9d615cb1a3e",
   "metadata": {},
   "outputs": [],
   "source": [
    "DEVELOP_MODE = True\n",
    "NUM_EXAMPLES = 5000*1000 # doesn't need to be precise but get order of magnitude right."
   ]
  },
  {
   "cell_type": "code",
   "execution_count": 11,
   "id": "97e7a562-66a6-4ae8-9506-7acb430323e8",
   "metadata": {},
   "outputs": [],
   "source": [
    "# use wildcard in the name so that it works even if you have multiple files\n",
    "training_data_uri = 'gs://{}/ch9/data/train*'.format(BUCKET)\n",
    "validation_data_uri = 'gs://{}/ch9/data/eval*'.format(BUCKET)"
   ]
  },
  {
   "cell_type": "markdown",
   "id": "f8100683-2f3f-4c14-a7b8-b8a2d737a2e3",
   "metadata": {},
   "source": [
    "Let's set model parameters."
   ]
  },
  {
   "cell_type": "code",
   "execution_count": 12,
   "id": "d8412caa-aac6-47ae-bdea-9eb467024066",
   "metadata": {},
   "outputs": [],
   "source": [
    "NBUCKETS = 5 #\n",
    "NEMBEDS = 3\n",
    "TRAIN_BATCH_SIZE = 64\n",
    "DNN_HIDDEN_UNITS = '64,32'"
   ]
  },
  {
   "cell_type": "markdown",
   "id": "efde42f4-7654-45a1-915c-4021bba459f0",
   "metadata": {},
   "source": [
    "Let's create the input data pipeline"
   ]
  },
  {
   "cell_type": "code",
   "execution_count": 13,
   "id": "725e7a96-9728-44f4-a451-971d3a4ef3f0",
   "metadata": {},
   "outputs": [
    {
     "name": "stderr",
     "output_type": "stream",
     "text": [
      "2022-10-13 16:18:07.336684: W tensorflow/stream_executor/platform/default/dso_loader.cc:64] Could not load dynamic library 'libcuda.so.1'; dlerror: libcuda.so.1: cannot open shared object file: No such file or directory; LD_LIBRARY_PATH: /usr/local/cuda/lib64:/usr/local/nccl2/lib:/usr/local/cuda/extras/CUPTI/lib64\n",
      "2022-10-13 16:18:07.336802: W tensorflow/stream_executor/cuda/cuda_driver.cc:269] failed call to cuInit: UNKNOWN ERROR (303)\n",
      "2022-10-13 16:18:07.336850: I tensorflow/stream_executor/cuda/cuda_diagnostics.cc:156] kernel driver does not appear to be running on this host (tensorflow-2-9-20221013-141934): /proc/driver/nvidia/version does not exist\n",
      "2022-10-13 16:18:07.385301: I tensorflow/core/platform/cpu_feature_guard.cc:193] This TensorFlow binary is optimized with oneAPI Deep Neural Network Library (oneDNN) to use the following CPU instructions in performance-critical operations:  AVX2 FMA\n",
      "To enable them in other operations, rebuild TensorFlow with the appropriate compiler flags.\n"
     ]
    },
    {
     "name": "stdout",
     "output_type": "stream",
     "text": [
      "0 {'ontime': array([1, 1, 1, 1, 0], dtype=int32), 'dep_delay': array([ -3, -19,  -4, -10,  96], dtype=int32), 'taxi_out': array([15,  8, 12, 17,  9], dtype=int32), 'distance': array([362, 204, 562, 204, 571], dtype=int32), 'origin': array([b'OAK', b'SCC', b'XNA', b'BRW', b'JNU'], dtype=object), 'dest': array([b'ONT', b'BRW', b'CVG', b'SCC', b'ANC'], dtype=object), 'dep_hour': array([18,  1, 22,  4, 23], dtype=int32), 'is_weekday': array([1, 1, 1, 0, 0], dtype=int32), 'carrier': array([b'WN', b'AS', b'OO', b'AS', b'AS'], dtype=object), 'dep_airport_lat': array([37.72278 , 70.19556 , 36.281666, 71.28472 , 58.35472 ],\n",
      "      dtype=float32), 'dep_airport_lon': array([-122.22139, -148.46584,  -94.30778, -156.76862, -134.57472],\n",
      "      dtype=float32), 'arr_airport_lat': array([34.05611 , 71.28472 , 39.04889 , 70.19556 , 61.174168],\n",
      "      dtype=float32), 'arr_airport_lon': array([-117.60111, -156.76862,  -84.66778, -148.46584, -149.99806],\n",
      "      dtype=float32)}\n",
      "1 {'ontime': array([1, 1, 0, 1, 0], dtype=int32), 'dep_delay': array([ -4,  -3,  96, -13, -14], dtype=int32), 'taxi_out': array([12,  9,  9,  7, 47], dtype=int32), 'distance': array([966, 403, 213, 548, 627], dtype=int32), 'origin': array([b'RSW', b'CVG', b'CDV', b'OTZ', b'ANC'], dtype=object), 'dest': array([b'PIT', b'MEM', b'YAK', b'ANC', b'SCC'], dtype=object), 'dep_hour': array([19, 14,  3, 16, 15], dtype=int32), 'is_weekday': array([0, 1, 1, 0, 1], dtype=int32), 'carrier': array([b'WN', b'OO', b'AS', b'AS', b'AS'], dtype=object), 'dep_airport_lat': array([26.536112, 39.04889 , 60.491665, 66.88472 , 61.174168],\n",
      "      dtype=float32), 'dep_airport_lon': array([ -81.75528,  -84.66778, -145.4775 , -162.59805, -149.99806],\n",
      "      dtype=float32), 'arr_airport_lat': array([40.49139 , 35.0425  , 59.503334, 61.174168, 70.19556 ],\n",
      "      dtype=float32), 'arr_airport_lon': array([ -80.23278,  -89.97667, -139.66028, -149.99806, -148.46584],\n",
      "      dtype=float32)}\n"
     ]
    },
    {
     "name": "stderr",
     "output_type": "stream",
     "text": [
      "2022-10-13 16:19:58.723919: I tensorflow/core/kernels/data/shuffle_dataset_op.cc:390] Filling up shuffle buffer (this may take a while): 1 of 10000\n",
      "2022-10-13 16:19:58.860383: I tensorflow/core/kernels/data/shuffle_dataset_op.cc:415] Shuffle buffer filled.\n"
     ]
    }
   ],
   "source": [
    "if DEVELOP_MODE:\n",
    "    train_df = tf.data.experimental.make_csv_dataset(training_data_uri, batch_size=5)\n",
    "    for n, data in enumerate(train_df):\n",
    "        numpy_data = {k: v.numpy() for k, v in data.items()} # .numpy() works only in eager mode\n",
    "        print(n, numpy_data)\n",
    "        if n==1: break"
   ]
  },
  {
   "cell_type": "markdown",
   "id": "0fb809fe-43a4-4a1a-b74f-dcc6158239de",
   "metadata": {},
   "source": [
    "The dataset consists of the label and features. It is good idea to seperate these columns. Let's create the features and label variables."
   ]
  },
  {
   "cell_type": "code",
   "execution_count": 14,
   "id": "3ab8ca9e-ca47-4cd1-9ad0-cda4b52e6b3f",
   "metadata": {},
   "outputs": [],
   "source": [
    "def features_and_labels(features):\n",
    "  label = features.pop('ontime') # this is what we will train for\n",
    "  return features, label"
   ]
  },
  {
   "cell_type": "markdown",
   "id": "7e0ad35c-3854-4dfe-a64c-f807d477e883",
   "metadata": {},
   "source": [
    "Let’s creaet a read_dataset() function that reads the training data, yielding batch_size examples each time."
   ]
  },
  {
   "cell_type": "code",
   "execution_count": 15,
   "id": "a406025e-3e92-451a-9dd7-97f75ec5cd3c",
   "metadata": {},
   "outputs": [
    {
     "name": "stdout",
     "output_type": "stream",
     "text": [
      "Checking input pipeline\n",
      "[(OrderedDict([('dep_delay', <tf.Tensor: shape=(2,), dtype=int32, numpy=array([60, -7], dtype=int32)>), ('taxi_out', <tf.Tensor: shape=(2,), dtype=int32, numpy=array([ 6, 10], dtype=int32)>), ('distance', <tf.Tensor: shape=(2,), dtype=int32, numpy=array([511, 466], dtype=int32)>), ('origin', <tf.Tensor: shape=(2,), dtype=string, numpy=array([b'BOI', b'ACY'], dtype=object)>), ('dest', <tf.Tensor: shape=(2,), dtype=string, numpy=array([b'OAK', b'MYR'], dtype=object)>), ('dep_hour', <tf.Tensor: shape=(2,), dtype=int32, numpy=array([ 3, 11], dtype=int32)>), ('is_weekday', <tf.Tensor: shape=(2,), dtype=int32, numpy=array([0, 1], dtype=int32)>), ('carrier', <tf.Tensor: shape=(2,), dtype=string, numpy=array([b'WN', b'NK'], dtype=object)>), ('dep_airport_lat', <tf.Tensor: shape=(2,), dtype=float32, numpy=array([43.564445, 39.4575  ], dtype=float32)>), ('dep_airport_lon', <tf.Tensor: shape=(2,), dtype=float32, numpy=array([-116.22278 ,  -74.577225], dtype=float32)>), ('arr_airport_lat', <tf.Tensor: shape=(2,), dtype=float32, numpy=array([37.72278, 33.67972], dtype=float32)>), ('arr_airport_lon', <tf.Tensor: shape=(2,), dtype=float32, numpy=array([-122.22139,  -78.92834], dtype=float32)>)]), <tf.Tensor: shape=(2,), dtype=int32, numpy=array([0, 1], dtype=int32)>)]\n"
     ]
    },
    {
     "name": "stderr",
     "output_type": "stream",
     "text": [
      "2022-10-13 16:21:24.492651: I tensorflow/core/kernels/data/shuffle_dataset_op.cc:390] Filling up shuffle buffer (this may take a while): 1 of 10000\n",
      "2022-10-13 16:21:24.492712: I tensorflow/core/kernels/data/shuffle_dataset_op.cc:390] Filling up shuffle buffer (this may take a while): 2 of 10000\n",
      "2022-10-13 16:21:24.653795: I tensorflow/core/kernels/data/shuffle_dataset_op.cc:415] Shuffle buffer filled.\n",
      "2022-10-13 16:21:24.654197: I tensorflow/core/kernels/data/shuffle_dataset_op.cc:390] Filling up shuffle buffer (this may take a while): 1 of 20\n",
      "2022-10-13 16:21:24.654225: I tensorflow/core/kernels/data/shuffle_dataset_op.cc:390] Filling up shuffle buffer (this may take a while): 2 of 20\n",
      "2022-10-13 16:21:24.655869: I tensorflow/core/kernels/data/shuffle_dataset_op.cc:415] Shuffle buffer filled.\n"
     ]
    }
   ],
   "source": [
    "def read_dataset(pattern, batch_size, mode=tf.estimator.ModeKeys.TRAIN, truncate=None):\n",
    "    dataset = tf.data.experimental.make_csv_dataset(pattern, batch_size, num_epochs=1)\n",
    "    dataset = dataset.map(features_and_labels)\n",
    "    if mode == tf.estimator.ModeKeys.TRAIN:\n",
    "        dataset = dataset.shuffle(batch_size*10)\n",
    "        dataset = dataset.repeat()\n",
    "        dataset = dataset.prefetch(1)\n",
    "    if truncate is not None:\n",
    "        dataset = dataset.take(truncate)\n",
    "    return dataset\n",
    "\n",
    "if DEVELOP_MODE:\n",
    "    print(\"Checking input pipeline\")\n",
    "    one_item = read_dataset(training_data_uri, batch_size=2, truncate=1)\n",
    "    print(list(one_item)) # should print one batch of 2 items"
   ]
  },
  {
   "cell_type": "markdown",
   "id": "851c4deb-1dd2-4be6-82d6-8aa308c2c0b1",
   "metadata": {},
   "source": [
    "## Create TensorFlow wide-and-deep model"
   ]
  },
  {
   "cell_type": "markdown",
   "id": "3f692012-59d2-4adb-81ed-7450173ccb2b",
   "metadata": {},
   "source": [
    "Let's create feature columns, and do some discretization and feature engineering."
   ]
  },
  {
   "cell_type": "code",
   "execution_count": 16,
   "id": "d8ae4efe-ac47-4d72-8ba6-9dc6b101a888",
   "metadata": {},
   "outputs": [],
   "source": [
    "import tensorflow as tf\n",
    "\n",
    "real = {\n",
    "    colname : tf.feature_column.numeric_column(colname) \n",
    "          for colname in \n",
    "            (\n",
    "                'dep_delay,taxi_out,distance,dep_hour,is_weekday,' +\n",
    "                'dep_airport_lat,dep_airport_lon,' +\n",
    "                'arr_airport_lat,arr_airport_lon'\n",
    "            ).split(',')\n",
    "    }\n",
    "sparse = {\n",
    "      'carrier': tf.feature_column.categorical_column_with_vocabulary_list('carrier',\n",
    "                  vocabulary_list='AS,VX,F9,UA,US,WN,HA,EV,MQ,DL,OO,B6,NK,AA'.split(',')),\n",
    "      'origin' : tf.feature_column.categorical_column_with_hash_bucket('origin', hash_bucket_size=1000),\n",
    "      'dest'   : tf.feature_column.categorical_column_with_hash_bucket('dest', hash_bucket_size=1000),\n",
    "    }\n",
    "\n",
    "inputs = {\n",
    "    colname : tf.keras.layers.Input(name=colname, shape=(), dtype='float32') for colname in real.keys()\n",
    "    }\n",
    "\n",
    "inputs.update({\n",
    "    colname : tf.keras.layers.Input(name=colname, shape=(), dtype='string') \n",
    "          for colname in sparse.keys()\n",
    "    })"
   ]
  },
  {
   "cell_type": "markdown",
   "id": "2b92bd51-8ea1-4cd1-b8f5-5c5c31e7536e",
   "metadata": {},
   "source": [
    "## Feature engineering"
   ]
  },
  {
   "cell_type": "code",
   "execution_count": 17,
   "id": "6a51edbd-b81a-4310-910b-9ab2a2337d41",
   "metadata": {},
   "outputs": [
    {
     "name": "stdout",
     "output_type": "stream",
     "text": [
      "dict_keys(['carrier', 'origin', 'dest', 'dep_loc', 'arr_loc', 'dep_arr'])\n",
      "dict_keys(['dep_delay', 'taxi_out', 'distance', 'dep_hour', 'is_weekday', 'dep_airport_lat', 'dep_airport_lon', 'arr_airport_lat', 'arr_airport_lon', 'embed_carrier', 'embed_origin', 'embed_dest', 'embed_dep_loc', 'embed_arr_loc', 'embed_dep_arr'])\n"
     ]
    }
   ],
   "source": [
    "latbuckets = np.linspace(20.0, 50.0, NBUCKETS).tolist()  # USA\n",
    "lonbuckets = np.linspace(-120.0, -70.0, NBUCKETS).tolist() # USA\n",
    "disc = {}\n",
    "disc.update({\n",
    "       'd_{}'.format(key) : tf.feature_column.bucketized_column(real[key], latbuckets) \n",
    "          for key in ['dep_airport_lat', 'arr_airport_lat']\n",
    "    })\n",
    "disc.update({\n",
    "       'd_{}'.format(key) : tf.feature_column.bucketized_column(real[key], lonbuckets) \n",
    "          for key in ['dep_airport_lon', 'arr_airport_lon']\n",
    "    })\n",
    "\n",
    "# cross columns that make sense in combination\n",
    "sparse['dep_loc'] = tf.feature_column.crossed_column(\n",
    "    [disc['d_dep_airport_lat'], disc['d_dep_airport_lon']], NBUCKETS*NBUCKETS)\n",
    "sparse['arr_loc'] = tf.feature_column.crossed_column(\n",
    "    [disc['d_arr_airport_lat'], disc['d_arr_airport_lon']], NBUCKETS*NBUCKETS)\n",
    "sparse['dep_arr'] = tf.feature_column.crossed_column([sparse['dep_loc'], sparse['arr_loc']], NBUCKETS ** 4)\n",
    "\n",
    "# embed all the sparse columns\n",
    "embed = {\n",
    "       'embed_{}'.format(colname) : tf.feature_column.embedding_column(col, NEMBEDS)\n",
    "          for colname, col in sparse.items()\n",
    "    }\n",
    "real.update(embed)\n",
    "\n",
    "# one-hot encode the sparse columns\n",
    "sparse = {\n",
    "    colname : tf.feature_column.indicator_column(col)\n",
    "          for colname, col in sparse.items()\n",
    "    }\n",
    "\n",
    "if DEVELOP_MODE:\n",
    "    print(sparse.keys())\n",
    "    print(real.keys())"
   ]
  },
  {
   "cell_type": "markdown",
   "id": "fb447d56-2311-44a2-a1ee-3dad7f184e74",
   "metadata": {},
   "source": [
    "## Train the model and evaluate once in a while"
   ]
  },
  {
   "cell_type": "code",
   "execution_count": 18,
   "id": "17ef8355-5b12-44a8-8ebf-2c1685b43a2e",
   "metadata": {},
   "outputs": [
    {
     "name": "stdout",
     "output_type": "stream",
     "text": [
      "Writing trained model to gs://tirendaz-ds/ch9/trained_model\n"
     ]
    }
   ],
   "source": [
    "output_dir='gs://{}/ch9/trained_model'.format(BUCKET)\n",
    "os.environ['OUTDIR'] = output_dir  # needed for deployment\n",
    "print('Writing trained model to {}'.format(output_dir))"
   ]
  },
  {
   "cell_type": "code",
   "execution_count": 19,
   "id": "8ef56251-d3ef-4b30-8b3c-efce077c9885",
   "metadata": {},
   "outputs": [
    {
     "name": "stdout",
     "output_type": "stream",
     "text": [
      "Removing gs://tirendaz-ds/ch9/trained_model/export/#1665676258844548...\n",
      "Removing gs://tirendaz-ds/ch9/trained_model/export/flights_20221013-155050/#1665676259071286...\n",
      "Removing gs://tirendaz-ds/ch9/trained_model/#1665676208909515...\n",
      "Removing gs://tirendaz-ds/ch9/trained_model/checkpoints/#1665676209136572...\n",
      "Removing gs://tirendaz-ds/ch9/trained_model/checkpoints/checkpoint#1665676249448818...\n",
      "Removing gs://tirendaz-ds/ch9/trained_model/checkpoints/flights.cpt.data-00000-of-00001#1665676248300996...\n",
      "Removing gs://tirendaz-ds/ch9/trained_model/export/flights_20221013-155050/assets/#1665676262864640...\n",
      "Removing gs://tirendaz-ds/ch9/trained_model/checkpoints/flights.cpt.index#1665676248582548...\n",
      "Removing gs://tirendaz-ds/ch9/trained_model/export/flights_20221013-155050/saved_model.pb#1665676263880550...\n",
      "Removing gs://tirendaz-ds/ch9/trained_model/export/flights_20221013-155050/variables/variables.data-00000-of-00001#1665676261711507...\n",
      "Removing gs://tirendaz-ds/ch9/trained_model/export/flights_20221013-155050/variables/variables.index#1665676262034224...\n",
      "Removing gs://tirendaz-ds/ch9/trained_model/export/flights_20221013-155050/variables/#1665676259327958...\n",
      "/ [12/12 objects] 100% Done                                                     \n",
      "Operation completed over 12 objects.                                             \n"
     ]
    }
   ],
   "source": [
    "!gsutil -m rm -rf $OUTDIR"
   ]
  },
  {
   "cell_type": "code",
   "execution_count": 20,
   "id": "94013a44-162e-4b66-84df-263170c860aa",
   "metadata": {},
   "outputs": [
    {
     "data": {
      "image/png": "[encoded data removed]",
      "text/plain": [
       "<IPython.core.display.Image object>"
      ]
     },
     "execution_count": 20,
     "metadata": {},
     "output_type": "execute_result"
    }
   ],
   "source": [
    "# Build a wide-and-deep model.\n",
    "def wide_and_deep_classifier(inputs, linear_feature_columns, dnn_feature_columns, dnn_hidden_units):\n",
    "    deep = tf.keras.layers.DenseFeatures(dnn_feature_columns, name='deep_inputs')(inputs)\n",
    "    layers = [int(x) for x in dnn_hidden_units.split(',')]\n",
    "    for layerno, numnodes in enumerate(layers):\n",
    "        deep = tf.keras.layers.Dense(numnodes, activation='relu', name='dnn_{}'.format(layerno+1))(deep)        \n",
    "    wide = tf.keras.layers.DenseFeatures(linear_feature_columns, name='wide_inputs')(inputs)\n",
    "    both = tf.keras.layers.concatenate([deep, wide], name='both')\n",
    "    output = tf.keras.layers.Dense(1, activation='sigmoid', name='pred')(both)\n",
    "    model = tf.keras.Model(inputs, output)\n",
    "    model.compile(optimizer='adam',\n",
    "                  loss='binary_crossentropy',\n",
    "                  metrics=['accuracy'])\n",
    "    return model\n",
    "    \n",
    "model = wide_and_deep_classifier(\n",
    "    inputs,\n",
    "    linear_feature_columns = sparse.values(),\n",
    "    dnn_feature_columns = real.values(),\n",
    "    dnn_hidden_units = DNN_HIDDEN_UNITS)\n",
    "tf.keras.utils.plot_model(model, 'flights_model.png', show_shapes=False, rankdir='LR')"
   ]
  },
  {
   "cell_type": "code",
   "execution_count": 21,
   "id": "105444ff-a3a0-4a57-8604-7c5bae8f6af4",
   "metadata": {},
   "outputs": [
    {
     "name": "stdout",
     "output_type": "stream",
     "text": [
      "Epoch 1/2\n"
     ]
    },
    {
     "name": "stderr",
     "output_type": "stream",
     "text": [
      "2022-10-13 16:23:48.457930: I tensorflow/core/kernels/data/shuffle_dataset_op.cc:390] Filling up shuffle buffer (this may take a while): 1 of 10000\n",
      "2022-10-13 16:23:48.457994: I tensorflow/core/kernels/data/shuffle_dataset_op.cc:390] Filling up shuffle buffer (this may take a while): 2 of 10000\n",
      "2022-10-13 16:23:48.620730: I tensorflow/core/kernels/data/shuffle_dataset_op.cc:415] Shuffle buffer filled.\n",
      "2022-10-13 16:23:48.622336: I tensorflow/core/kernels/data/shuffle_dataset_op.cc:390] Filling up shuffle buffer (this may take a while): 1 of 640\n",
      "2022-10-13 16:23:48.623629: I tensorflow/core/kernels/data/shuffle_dataset_op.cc:390] Filling up shuffle buffer (this may take a while): 2 of 640\n",
      "2022-10-13 16:23:48.918137: I tensorflow/core/kernels/data/shuffle_dataset_op.cc:390] Filling up shuffle buffer (this may take a while): 284 of 640\n",
      "2022-10-13 16:23:49.333476: I tensorflow/core/kernels/data/shuffle_dataset_op.cc:415] Shuffle buffer filled.\n"
     ]
    },
    {
     "name": "stdout",
     "output_type": "stream",
     "text": [
      "1/3 [=========>....................] - ETA: 1:09 - loss: 0.4822 - accuracy: 0.8125"
     ]
    },
    {
     "name": "stderr",
     "output_type": "stream",
     "text": [
      "2022-10-13 16:24:21.050562: I tensorflow/core/kernels/data/shuffle_dataset_op.cc:390] Filling up shuffle buffer (this may take a while): 1 of 10000\n",
      "2022-10-13 16:24:21.050636: I tensorflow/core/kernels/data/shuffle_dataset_op.cc:390] Filling up shuffle buffer (this may take a while): 2 of 10000\n",
      "2022-10-13 16:24:21.160197: I tensorflow/core/kernels/data/shuffle_dataset_op.cc:415] Shuffle buffer filled.\n"
     ]
    },
    {
     "name": "stdout",
     "output_type": "stream",
     "text": [
      "\n",
      "Epoch 1: saving model to gs://tirendaz-ds/ch9/trained_model/checkpoints/flights.cpt\n",
      "3/3 [==============================] - 75s 20s/step - loss: 0.4045 - accuracy: 0.8698 - val_loss: 0.4038 - val_accuracy: 0.8372\n",
      "Epoch 2/2\n",
      "1/3 [=========>....................] - ETA: 0s - loss: 0.3511 - accuracy: 0.8750"
     ]
    },
    {
     "name": "stderr",
     "output_type": "stream",
     "text": [
      "2022-10-13 16:24:48.321976: I tensorflow/core/kernels/data/shuffle_dataset_op.cc:390] Filling up shuffle buffer (this may take a while): 1 of 10000\n",
      "2022-10-13 16:24:48.443883: I tensorflow/core/kernels/data/shuffle_dataset_op.cc:415] Shuffle buffer filled.\n"
     ]
    },
    {
     "name": "stdout",
     "output_type": "stream",
     "text": [
      "\n",
      "Epoch 2: saving model to gs://tirendaz-ds/ch9/trained_model/checkpoints/flights.cpt\n",
      "3/3 [==============================] - 25s 13s/step - loss: 0.3394 - accuracy: 0.8802 - val_loss: 0.3476 - val_accuracy: 0.8543\n"
     ]
    }
   ],
   "source": [
    "# training and evaluation dataset\n",
    "train_batch_size = TRAIN_BATCH_SIZE\n",
    "if DEVELOP_MODE:\n",
    "    eval_batch_size = 100\n",
    "    steps_per_epoch = 3\n",
    "    epochs = 2\n",
    "    num_eval_examples = eval_batch_size*10\n",
    "else:\n",
    "    eval_batch_size = 100\n",
    "    steps_per_epoch = NUM_EXAMPLES // train_batch_size\n",
    "    epochs = 10\n",
    "    num_eval_examples = eval_batch_size * 100\n",
    "\n",
    "train_dataset = read_dataset(training_data_uri, train_batch_size)\n",
    "eval_dataset = read_dataset(validation_data_uri, eval_batch_size, tf.estimator.ModeKeys.EVAL, num_eval_examples)\n",
    "\n",
    "checkpoint_path = '{}/checkpoints/flights.cpt'.format(output_dir)\n",
    "shutil.rmtree(checkpoint_path, ignore_errors=True)\n",
    "cp_callback = tf.keras.callbacks.ModelCheckpoint(checkpoint_path, \n",
    "                                                 save_weights_only=True,\n",
    "                                                 verbose=1)\n",
    "\n",
    "history = model.fit(train_dataset, \n",
    "                    validation_data=eval_dataset,\n",
    "                    epochs=epochs, \n",
    "                    steps_per_epoch=steps_per_epoch,\n",
    "                    callbacks=[cp_callback])"
   ]
  },
  {
   "cell_type": "code",
   "execution_count": 22,
   "id": "ed2d74e7-ed65-4dce-9d6c-151c57b258ff",
   "metadata": {},
   "outputs": [
    {
     "data": {
      "image/png": "[encoded data removed]",
      "text/plain": [
       "<Figure size 1000x500 with 2 Axes>"
      ]
     },
     "metadata": {},
     "output_type": "display_data"
    }
   ],
   "source": [
    "import matplotlib.pyplot as plt\n",
    "nrows = 1\n",
    "ncols = 2\n",
    "fig = plt.figure(figsize=(10, 5))\n",
    "\n",
    "for idx, key in enumerate(['loss', 'accuracy']):\n",
    "    ax = fig.add_subplot(nrows, ncols, idx+1)\n",
    "    plt.plot(history.history[key])\n",
    "    plt.plot(history.history['val_{}'.format(key)])\n",
    "    plt.title('model {}'.format(key))\n",
    "    plt.ylabel(key)\n",
    "    plt.xlabel('epoch')\n",
    "    plt.legend(['train', 'validation'], loc='upper left');"
   ]
  },
  {
   "cell_type": "markdown",
   "id": "118f6511-4421-4d9a-8505-6d82578676f9",
   "metadata": {},
   "source": [
    "## Export the trained model"
   ]
  },
  {
   "cell_type": "code",
   "execution_count": 23,
   "id": "3aafa7e2-64a3-4065-8a88-37dfe542e01a",
   "metadata": {},
   "outputs": [
    {
     "name": "stdout",
     "output_type": "stream",
     "text": [
      "Exporting to gs://tirendaz-ds/ch9/trained_model/export/flights_20221013-162541\n",
      "INFO:tensorflow:Assets written to: gs://tirendaz-ds/ch9/trained_model/export/flights_20221013-162541/assets\n"
     ]
    }
   ],
   "source": [
    "import time\n",
    "export_dir = '{}/export/flights_{}'.format(output_dir, time.strftime(\"%Y%m%d-%H%M%S\"))\n",
    "print('Exporting to {}'.format(export_dir))\n",
    "tf.saved_model.save(model, export_dir)"
   ]
  },
  {
   "cell_type": "markdown",
   "id": "8348fb75-4aae-44db-8d28-78d08bbd7127",
   "metadata": {},
   "source": [
    "## Deploy model to Vertex AI"
   ]
  },
  {
   "cell_type": "code",
   "execution_count": 24,
   "id": "2af44447-0a75-4f9f-824c-8b7e4a97df45",
   "metadata": {},
   "outputs": [
    {
     "name": "stdout",
     "output_type": "stream",
     "text": [
      "gs://tirendaz-ds/ch9/trained_model/export/flights_20221013-162541/\n",
      "Creating Endpoint for flights-20221013-162555\n",
      "ENDPOINT_ID=1662536347988000768\n",
      "MODEL_ID=659174813037756416\n"
     ]
    },
    {
     "name": "stderr",
     "output_type": "stream",
     "text": [
      "Using endpoint [https://us-central1-aiplatform.googleapis.com/]\n",
      "WARNING: The following filter keys were not present in any resource : display_name\n",
      "Using endpoint [https://us-central1-aiplatform.googleapis.com/]\n",
      "Waiting for operation [8467715422077059072]...\n",
      "..................................................................................................................................................................................................................................................................................................................................................................................................................................................................................................................................................................................................................................................................................................................................................................................done.\n",
      "Created Vertex AI endpoint: projects/909214775797/locations/us-central1/endpoints/1662536347988000768.\n",
      "Using endpoint [https://us-central1-aiplatform.googleapis.com/]\n",
      "Using endpoint [https://us-central1-aiplatform.googleapis.com/]\n",
      "WARNING: The following filter keys were not present in any resource : display_name\n",
      "Using endpoint [https://us-central1-aiplatform.googleapis.com/]\n",
      "Waiting for operation [8368636230274908160]...\n",
      "...................done.\n",
      "Using endpoint [https://us-central1-aiplatform.googleapis.com/]\n",
      "Using endpoint [https://us-central1-aiplatform.googleapis.com/]\n",
      "Waiting for operation [6670779170756231168]...\n",
      "....................................................................................................................................................................................................................................................................................................................................................................................................................................................................................................................................................................................................................................................................................................................................................................................................................................................................................................................................................................................................................................................................................................................................................................................................................................................................................................................................................................................................................................................................................................................................................................................................................................................................................................................................................................................................................................................................................................................................................................................................................................................................................................................................................................................................................................................................................................................................................................................................................................................................................................................................................................................................................................................................................................................................................................................................................................................................................................................................................................................................................................................................................................................................................................................................................................................................................................................................................................................................................................................................................................................................................................................................................................................................................................................................................................................................................................................................................................................................................................................................................................................................................................................................................................................................................................................................................................................................................................................................................................................................................................................................................................................................................................................................................................................................................................................................................done.\n",
      "Deployed a model to the endpoint 1662536347988000768. Id of the deployed model: 4848463648445693952.\n"
     ]
    }
   ],
   "source": [
    "%%bash\n",
    "# note TF_VERSION and ENDPOINT_NAME set in 1st cell\n",
    "# TF_VERSION=2-6\n",
    "# ENDPOINT_NAME=flights\n",
    "\n",
    "TIMESTAMP=$(date +%Y%m%d-%H%M%S)\n",
    "MODEL_NAME=${ENDPOINT_NAME}-${TIMESTAMP}\n",
    "EXPORT_PATH=$(gsutil ls ${OUTDIR}/export | tail -1)\n",
    "echo $EXPORT_PATH\n",
    "\n",
    "if [[ $(gcloud ai endpoints list --region=$REGION \\\n",
    "        --format='value(DISPLAY_NAME)' --filter=display_name=${ENDPOINT_NAME}) ]]; then\n",
    "    echo \"Endpoint for $MODEL_NAME already exists\"\n",
    "else\n",
    "    # create model\n",
    "    echo \"Creating Endpoint for $MODEL_NAME\"\n",
    "    gcloud ai endpoints create --region=${REGION} --display-name=${ENDPOINT_NAME}\n",
    "fi\n",
    "\n",
    "ENDPOINT_ID=$(gcloud ai endpoints list --region=$REGION \\\n",
    "              --format='value(ENDPOINT_ID)' --filter=display_name=${ENDPOINT_NAME})\n",
    "echo \"ENDPOINT_ID=$ENDPOINT_ID\"\n",
    "\n",
    "# delete any existing models with this name\n",
    "for MODEL_ID in $(gcloud ai models list --region=$REGION --format='value(MODEL_ID)' --filter=display_name=${MODEL_NAME}); do\n",
    "    echo \"Deleting existing $MODEL_NAME ... $MODEL_ID \"\n",
    "    gcloud ai models delete --region=$REGION $MODEL_ID\n",
    "done\n",
    "\n",
    "# upload model\n",
    "gcloud beta ai models upload --region=$REGION --display-name=$MODEL_NAME \\\n",
    "     --container-image-uri=us-docker.pkg.dev/vertex-ai/prediction/tf2-cpu.${TF_VERSION}:latest \\\n",
    "     --artifact-uri=$EXPORT_PATH\n",
    "MODEL_ID=$(gcloud ai models list --region=$REGION --format='value(MODEL_ID)' --filter=display_name=${MODEL_NAME})\n",
    "echo \"MODEL_ID=$MODEL_ID\"\n",
    "\n",
    "# deploy model to endpoint\n",
    "gcloud ai endpoints deploy-model $ENDPOINT_ID \\\n",
    "  --region=$REGION \\\n",
    "  --model=$MODEL_ID \\\n",
    "  --display-name=$MODEL_NAME \\\n",
    "  --machine-type=n1-standard-2 \\\n",
    "  --min-replica-count=1 \\\n",
    "  --max-replica-count=1 \\\n",
    "  --traffic-split=0=100"
   ]
  },
  {
   "cell_type": "code",
   "execution_count": 25,
   "id": "0421c95f-fefa-4f9a-ab2c-0f2899b70260",
   "metadata": {},
   "outputs": [
    {
     "name": "stdout",
     "output_type": "stream",
     "text": [
      "Writing example_input.json\n"
     ]
    }
   ],
   "source": [
    "%%writefile example_input.json\n",
    "{\"instances\": [\n",
    "  {\"dep_hour\": 2, \"is_weekday\": 1, \"dep_delay\": 40, \"taxi_out\": 17, \"distance\": 41, \"carrier\": \"AS\", \"dep_airport_lat\": 58.42527778, \"dep_airport_lon\": -135.7075, \"arr_airport_lat\": 58.35472222, \"arr_airport_lon\": -134.57472222, \"origin\": \"GST\", \"dest\": \"JNU\"},\n",
    "  {\"dep_hour\": 22, \"is_weekday\": 0, \"dep_delay\": -7, \"taxi_out\": 7, \"distance\": 201, \"carrier\": \"HA\", \"dep_airport_lat\": 21.97611111, \"dep_airport_lon\": -159.33888889, \"arr_airport_lat\": 20.89861111, \"arr_airport_lon\": -156.43055556, \"origin\": \"LIH\", \"dest\": \"OGG\"}\n",
    "]}"
   ]
  },
  {
   "cell_type": "code",
   "execution_count": 26,
   "id": "dd1b4984-cd85-46c1-a64a-a70617e4a3a4",
   "metadata": {},
   "outputs": [
    {
     "name": "stdout",
     "output_type": "stream",
     "text": [
      "1662536347988000768\n",
      "[[0.530583501], [0.943778515]]\n"
     ]
    },
    {
     "name": "stderr",
     "output_type": "stream",
     "text": [
      "Using endpoint [https://us-central1-aiplatform.googleapis.com/]\n",
      "Using endpoint [https://us-central1-prediction-aiplatform.googleapis.com/]\n"
     ]
    }
   ],
   "source": [
    "%%bash\n",
    "ENDPOINT_ID=$(gcloud ai endpoints list --region=$REGION \\\n",
    "              --format='value(ENDPOINT_ID)' --filter=display_name=${ENDPOINT_NAME})\n",
    "echo $ENDPOINT_ID\n",
    "gcloud ai endpoints predict $ENDPOINT_ID --region=$REGION --json-request=example_input.json"
   ]
  },
  {
   "cell_type": "code",
   "execution_count": 27,
   "id": "40224af3-72c8-4b37-af3f-e0de43cf34cb",
   "metadata": {},
   "outputs": [
    {
     "name": "stdout",
     "output_type": "stream",
     "text": [
      "{\n",
      "  \"predictions\": [\n",
      "    [\n",
      "      0.530583501\n",
      "    ],\n",
      "    [\n",
      "      0.943778515\n",
      "    ]\n",
      "  ],\n",
      "  \"deployedModelId\": \"4848463648445693952\",\n",
      "  \"model\": \"projects/909214775797/locations/us-central1/models/659174813037756416\",\n",
      "  \"modelDisplayName\": \"flights-20221013-162555\",\n",
      "  \"modelVersionId\": \"1\"\n",
      "}\n"
     ]
    },
    {
     "name": "stderr",
     "output_type": "stream",
     "text": [
      "Using endpoint [https://us-central1-aiplatform.googleapis.com/]\n",
      "  % Total    % Received % Xferd  Average Speed   Time    Time     Time  Current\n",
      "                                 Dload  Upload   Total   Spent    Left  Speed\n",
      "100   833    0   290  100   543   1150   2154 --:--:-- --:--:-- --:--:--  3305\n"
     ]
    }
   ],
   "source": [
    "%%bash\n",
    "PROJECT=$(gcloud config get-value project)\n",
    "ENDPOINT_ID=$(gcloud ai endpoints list --region=$REGION \\\n",
    "              --format='value(ENDPOINT_ID)' --filter=display_name=${ENDPOINT_NAME})\n",
    "\n",
    "curl -X POST \\\n",
    "  -H \"Authorization: Bearer \"$(gcloud auth application-default print-access-token) \\\n",
    "  -H \"Content-Type: application/json; charset=utf-8\" \\\n",
    "  -d @example_input.json \\\n",
    "  \"https://${REGION}-aiplatform.googleapis.com/v1/projects/${PROJECT}/locations/${REGION}/endpoints/${ENDPOINT_ID}:predict\""
   ]
  },
  {
   "cell_type": "code",
   "execution_count": 28,
   "id": "d3554bd0-3add-4c2c-83e9-24af862fc444",
   "metadata": {},
   "outputs": [
    {
     "name": "stdout",
     "output_type": "stream",
     "text": [
      "Writing example_input_tirendaz.json\n"
     ]
    }
   ],
   "source": [
    "%%writefile example_input_tirendaz.json\n",
    "{\"instances\": [\n",
    "  {\"dep_hour\": 3, \"is_weekday\": 2, \"dep_delay\": 38, \"taxi_out\": 26, \"distance\": 42, \"carrier\": \"AS\", \"dep_airport_lat\": 58.42527778, \"dep_airport_lon\": -135.7075, \"arr_airport_lat\": 58.35472222, \"arr_airport_lon\": -134.57472222, \"origin\": \"GST\", \"dest\": \"JNU\"},\n",
    "  {\"dep_hour\": 25, \"is_weekday\": 0, \"dep_delay\": -7, \"taxi_out\": 9, \"distance\": 301, \"carrier\": \"HA\", \"dep_airport_lat\": 21.97611111, \"dep_airport_lon\": -159.33888889, \"arr_airport_lat\": 20.89861111, \"arr_airport_lon\": -156.43055556, \"origin\": \"LIH\", \"dest\": \"OGG\"}\n",
    "]}"
   ]
  },
  {
   "cell_type": "code",
   "execution_count": 29,
   "id": "802fb296-086e-436d-9e43-3352c38baac3",
   "metadata": {},
   "outputs": [
    {
     "name": "stdout",
     "output_type": "stream",
     "text": [
      "1662536347988000768\n",
      "[[0.558415711], [0.959950209]]\n"
     ]
    },
    {
     "name": "stderr",
     "output_type": "stream",
     "text": [
      "Using endpoint [https://us-central1-aiplatform.googleapis.com/]\n",
      "Using endpoint [https://us-central1-prediction-aiplatform.googleapis.com/]\n"
     ]
    }
   ],
   "source": [
    "%%bash\n",
    "ENDPOINT_ID=$(gcloud ai endpoints list --region=$REGION \\\n",
    "              --format='value(ENDPOINT_ID)' --filter=display_name=${ENDPOINT_NAME})\n",
    "echo $ENDPOINT_ID\n",
    "gcloud ai endpoints predict $ENDPOINT_ID --region=$REGION --json-request=example_input_tirendaz.json"
   ]
  },
  {
   "cell_type": "code",
   "execution_count": 31,
   "id": "e5216acb-a210-48d7-a131-29f9c1c7416f",
   "metadata": {},
   "outputs": [
    {
     "name": "stdout",
     "output_type": "stream",
     "text": [
      "{\n",
      "  \"predictions\": [\n",
      "    [\n",
      "      0.558415711\n",
      "    ],\n",
      "    [\n",
      "      0.959950209\n",
      "    ]\n",
      "  ],\n",
      "  \"deployedModelId\": \"4848463648445693952\",\n",
      "  \"model\": \"projects/909214775797/locations/us-central1/models/659174813037756416\",\n",
      "  \"modelDisplayName\": \"flights-20221013-162555\",\n",
      "  \"modelVersionId\": \"1\"\n",
      "}\n"
     ]
    },
    {
     "name": "stderr",
     "output_type": "stream",
     "text": [
      "Using endpoint [https://us-central1-aiplatform.googleapis.com/]\n",
      "  % Total    % Received % Xferd  Average Speed   Time    Time     Time  Current\n",
      "                                 Dload  Upload   Total   Spent    Left  Speed\n",
      "100   833    0   290  100   543   1150   2154 --:--:-- --:--:-- --:--:--  3305\n"
     ]
    }
   ],
   "source": [
    "%%bash\n",
    "PROJECT=$(gcloud config get-value project)\n",
    "ENDPOINT_ID=$(gcloud ai endpoints list --region=$REGION \\\n",
    "              --format='value(ENDPOINT_ID)' --filter=display_name=${ENDPOINT_NAME})\n",
    "\n",
    "curl -X POST \\\n",
    "  -H \"Authorization: Bearer \"$(gcloud auth application-default print-access-token) \\\n",
    "  -H \"Content-Type: application/json; charset=utf-8\" \\\n",
    "  -d @example_input_tirendaz.json \\\n",
    "  \"https://${REGION}-aiplatform.googleapis.com/v1/projects/${PROJECT}/locations/${REGION}/endpoints/${ENDPOINT_ID}:predict\""
   ]
  },
  {
   "cell_type": "markdown",
   "id": "f6c65aaa-b84a-4f06-ac15-7d165b85917e",
   "metadata": {},
   "source": [
    "## Resources\n",
    "\n",
    "- Data Science on the Google Cloud Platform, 2nd Edition"
   ]
  },
  {
   "cell_type": "markdown",
   "id": "d6071f3b-390d-469a-bbaf-21382b06a5c7",
   "metadata": {},
   "source": [
    "Follow me [Twitter](https://twitter.com/TirendazAcademy) | [Instagram](https://www.instagram.com/tirendazacademy) | [Medium](https://tirendazacademy.medium.com) | [YouTube](https://www.youtube.com/channel/UCFU9Go20p01kC64w-tmFORw) | [Tiktok](https://www.tiktok.com/@tirendazacademy) 😊"
   ]
  }
 ],
 "metadata": {
  "environment": {
   "kernel": "python3",
   "name": "tf2-gpu.2-9.m97",
   "type": "gcloud",
   "uri": "gcr.io/deeplearning-platform-release/tf2-gpu.2-9:m97"
  },
  "kernelspec": {
   "display_name": "Python 3",
   "language": "python",
   "name": "python3"
  },
  "language_info": {
   "codemirror_mode": {
    "name": "ipython",
    "version": 3
   },
   "file_extension": ".py",
   "mimetype": "text/x-python",
   "name": "python",
   "nbconvert_exporter": "python",
   "pygments_lexer": "ipython3",
   "version": "3.7.12"
  }
 },
 "nbformat": 4,
 "nbformat_minor": 5
}
